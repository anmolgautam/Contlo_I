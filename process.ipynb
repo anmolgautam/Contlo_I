{
 "cells": [
  {
   "cell_type": "code",
   "execution_count": 2,
   "metadata": {},
   "outputs": [],
   "source": [
    "import pandas as pd\n",
    "import os"
   ]
  },
  {
   "cell_type": "code",
   "execution_count": 3,
   "metadata": {},
   "outputs": [
    {
     "name": "stdout",
     "output_type": "stream",
     "text": [
      "                  filename                                               text\n",
      "0    connecting_stores.txt  Step 1 - Connecting your Stores\\n\\n- Shopify\\n...\n",
      "1  invite_team_members.txt  Step 2 - Invite your Team Members\\n\\nAfter con...\n",
      "2  start_conversations.txt  Start Conversation\\n    - After connecting you...\n",
      "3             new user.txt  To start using Contlo’s Helpdesk for your prod...\n",
      "4       setup_channels.txt  Step 3 - Set up Channels\\n\\nYou need to set up...\n"
     ]
    }
   ],
   "source": [
    "# Specify the path to your folder\n",
    "folder_path = 'docs/'\n",
    "\n",
    "# Initialize an empty list to store the text from each file\n",
    "texts = []\n",
    "\n",
    "# Loop through each file in the folder\n",
    "for filename in os.listdir(folder_path):\n",
    "    # Construct the full file path\n",
    "    file_path = os.path.join(folder_path, filename)\n",
    "    \n",
    "    # Check if the current object is a file\n",
    "    if os.path.isfile(file_path):\n",
    "        # Open the file and read its content\n",
    "        with open(file_path, 'r', encoding='utf-8') as file:\n",
    "            file_text = file.read()\n",
    "            # Append the text to the list, you could also include filename or other info if needed\n",
    "            texts.append({'filename': filename, 'text': file_text})\n",
    "\n",
    "# Create a DataFrame with the collected texts\n",
    "df = pd.DataFrame(texts)\n",
    "\n",
    "# Display the DataFrame\n",
    "print(df)"
   ]
  },
  {
   "cell_type": "code",
   "execution_count": 4,
   "metadata": {},
   "outputs": [],
   "source": [
    "df.to_csv('onboarding.csv',index=False)"
   ]
  },
  {
   "cell_type": "code",
   "execution_count": 6,
   "metadata": {},
   "outputs": [
    {
     "name": "stdout",
     "output_type": "stream",
     "text": [
      "Step 2 - Invite your Team Members\n",
      "\n",
      "After connecting your store, you need to add your team members to Contlo to resolve the customers' support queries. Follow the steps given below:\n",
      "\n",
      "1. On the **Get Started** screen, click **Add Users** under **Invite team members**.\n",
      "2. On the **Add New Team member** modal, fill in the required details as described below:\n",
      "    1. **Name**: Enter your team member’s name.\n",
      "    2. **Email:** Enter the Email ID.\n",
      "    3. **Roles:** Select the roles for the respective team member:\n",
      "        1. Admin\n",
      "        2. Manager\n",
      "        3. Helpdesk Agent\n",
      "        4. Operator\n",
      "    4. **Active Channels**: Select the channels for the respective support agent.\n",
      "3. Click **Send Invite** to invite your team members.\n"
     ]
    }
   ],
   "source": [
    "d = pd.read_csv('onboarding.csv')\n",
    "d = d['text'].to_list()\n",
    "print(d[1])"
   ]
  },
  {
   "cell_type": "code",
   "execution_count": null,
   "metadata": {},
   "outputs": [],
   "source": []
  }
 ],
 "metadata": {
  "kernelspec": {
   "display_name": "nlp",
   "language": "python",
   "name": "python3"
  },
  "language_info": {
   "codemirror_mode": {
    "name": "ipython",
    "version": 3
   },
   "file_extension": ".py",
   "mimetype": "text/x-python",
   "name": "python",
   "nbconvert_exporter": "python",
   "pygments_lexer": "ipython3",
   "version": "3.9.18"
  }
 },
 "nbformat": 4,
 "nbformat_minor": 2
}
